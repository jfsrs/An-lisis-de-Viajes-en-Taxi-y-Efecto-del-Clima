{
 "cells": [
  {
   "cell_type": "markdown",
   "metadata": {},
   "source": [
    "# INTRODUCCIÓN\n",
    "\n",
    "Para esta parte vamos a analizar unos datos que se encuentran en archivos csv. Donde encontraremos y analizaremos cuales son las empresas de taxis que mas relevancia tienen, al igual que los barrios donde más se moviliza la gente y por último analizaremos la demora en los viajes dependiendo del clima que hay en determinados días.\n",
    "\n",
    "Esta información puede ser importante para las empresas en caso de querer realizar alguna campaña de promoción o también para saber que barrios pueden ser potenciales mercados donde no se están realizando muchos viajes pero que podrían mejorar las cifras con una campaña acorde a las necesidades de las personas que allí habitan. \n"
   ]
  },
  {
   "cell_type": "markdown",
   "metadata": {},
   "source": [
    "## Importa los archivos"
   ]
  },
  {
   "cell_type": "code",
   "execution_count": 8,
   "metadata": {
    "trusted": true
   },
   "outputs": [],
   "source": [
    "import pandas as pd\n",
    "from matplotlib import pyplot as plt\n",
    "from scipy import stats as st\n",
    "import numpy as np\n",
    "\n",
    "company_trips = pd.read_csv('moved_project_sql_result_01.csv')\n",
    "town_trips = pd.read_csv('moved_project_sql_result_04.csv')\n",
    "loop_trips = pd.read_csv('moved_project_sql_result_07.csv')"
   ]
  },
  {
   "cell_type": "markdown",
   "metadata": {},
   "source": [
    "## Estudia los datos que contienen"
   ]
  },
  {
   "cell_type": "code",
   "execution_count": 9,
   "metadata": {
    "trusted": true
   },
   "outputs": [
    {
     "data": {
      "text/html": [
       "<div>\n",
       "<style scoped>\n",
       "    .dataframe tbody tr th:only-of-type {\n",
       "        vertical-align: middle;\n",
       "    }\n",
       "\n",
       "    .dataframe tbody tr th {\n",
       "        vertical-align: top;\n",
       "    }\n",
       "\n",
       "    .dataframe thead th {\n",
       "        text-align: right;\n",
       "    }\n",
       "</style>\n",
       "<table border=\"1\" class=\"dataframe\">\n",
       "  <thead>\n",
       "    <tr style=\"text-align: right;\">\n",
       "      <th></th>\n",
       "      <th>company_name</th>\n",
       "      <th>trips_amount</th>\n",
       "    </tr>\n",
       "  </thead>\n",
       "  <tbody>\n",
       "    <tr>\n",
       "      <th>0</th>\n",
       "      <td>Flash Cab</td>\n",
       "      <td>19558</td>\n",
       "    </tr>\n",
       "    <tr>\n",
       "      <th>1</th>\n",
       "      <td>Taxi Affiliation Services</td>\n",
       "      <td>11422</td>\n",
       "    </tr>\n",
       "    <tr>\n",
       "      <th>2</th>\n",
       "      <td>Medallion Leasin</td>\n",
       "      <td>10367</td>\n",
       "    </tr>\n",
       "    <tr>\n",
       "      <th>3</th>\n",
       "      <td>Yellow Cab</td>\n",
       "      <td>9888</td>\n",
       "    </tr>\n",
       "    <tr>\n",
       "      <th>4</th>\n",
       "      <td>Taxi Affiliation Service Yellow</td>\n",
       "      <td>9299</td>\n",
       "    </tr>\n",
       "  </tbody>\n",
       "</table>\n",
       "</div>"
      ],
      "text/plain": [
       "                      company_name  trips_amount\n",
       "0                        Flash Cab         19558\n",
       "1        Taxi Affiliation Services         11422\n",
       "2                 Medallion Leasin         10367\n",
       "3                       Yellow Cab          9888\n",
       "4  Taxi Affiliation Service Yellow          9299"
      ]
     },
     "execution_count": 9,
     "metadata": {},
     "output_type": "execute_result"
    }
   ],
   "source": [
    "company_trips.head()"
   ]
  },
  {
   "cell_type": "markdown",
   "metadata": {},
   "source": [
    "## Asegurarte de que los tipos de datos sean correctos\n",
    "\n",
    "Los tipos de datos estan correctos"
   ]
  },
  {
   "cell_type": "code",
   "execution_count": 10,
   "metadata": {
    "trusted": true
   },
   "outputs": [
    {
     "name": "stdout",
     "output_type": "stream",
     "text": [
      "<class 'pandas.core.frame.DataFrame'>\n",
      "RangeIndex: 64 entries, 0 to 63\n",
      "Data columns (total 2 columns):\n",
      " #   Column        Non-Null Count  Dtype \n",
      "---  ------        --------------  ----- \n",
      " 0   company_name  64 non-null     object\n",
      " 1   trips_amount  64 non-null     int64 \n",
      "dtypes: int64(1), object(1)\n",
      "memory usage: 1.1+ KB\n"
     ]
    }
   ],
   "source": [
    "company_trips.info()"
   ]
  },
  {
   "cell_type": "markdown",
   "metadata": {},
   "source": [
    "## Identificar los 10 principales barrios en términos de finalización del recorrido"
   ]
  },
  {
   "cell_type": "code",
   "execution_count": 11,
   "metadata": {
    "trusted": true
   },
   "outputs": [
    {
     "data": {
      "text/html": [
       "<div>\n",
       "<style scoped>\n",
       "    .dataframe tbody tr th:only-of-type {\n",
       "        vertical-align: middle;\n",
       "    }\n",
       "\n",
       "    .dataframe tbody tr th {\n",
       "        vertical-align: top;\n",
       "    }\n",
       "\n",
       "    .dataframe thead th {\n",
       "        text-align: right;\n",
       "    }\n",
       "</style>\n",
       "<table border=\"1\" class=\"dataframe\">\n",
       "  <thead>\n",
       "    <tr style=\"text-align: right;\">\n",
       "      <th></th>\n",
       "      <th>dropoff_location_name</th>\n",
       "      <th>average_trips</th>\n",
       "    </tr>\n",
       "  </thead>\n",
       "  <tbody>\n",
       "    <tr>\n",
       "      <th>0</th>\n",
       "      <td>Loop</td>\n",
       "      <td>10727.466667</td>\n",
       "    </tr>\n",
       "    <tr>\n",
       "      <th>1</th>\n",
       "      <td>River North</td>\n",
       "      <td>9523.666667</td>\n",
       "    </tr>\n",
       "    <tr>\n",
       "      <th>2</th>\n",
       "      <td>Streeterville</td>\n",
       "      <td>6664.666667</td>\n",
       "    </tr>\n",
       "    <tr>\n",
       "      <th>3</th>\n",
       "      <td>West Loop</td>\n",
       "      <td>5163.666667</td>\n",
       "    </tr>\n",
       "    <tr>\n",
       "      <th>4</th>\n",
       "      <td>O'Hare</td>\n",
       "      <td>2546.900000</td>\n",
       "    </tr>\n",
       "    <tr>\n",
       "      <th>5</th>\n",
       "      <td>Lake View</td>\n",
       "      <td>2420.966667</td>\n",
       "    </tr>\n",
       "    <tr>\n",
       "      <th>6</th>\n",
       "      <td>Grant Park</td>\n",
       "      <td>2068.533333</td>\n",
       "    </tr>\n",
       "    <tr>\n",
       "      <th>7</th>\n",
       "      <td>Museum Campus</td>\n",
       "      <td>1510.000000</td>\n",
       "    </tr>\n",
       "    <tr>\n",
       "      <th>8</th>\n",
       "      <td>Gold Coast</td>\n",
       "      <td>1364.233333</td>\n",
       "    </tr>\n",
       "    <tr>\n",
       "      <th>9</th>\n",
       "      <td>Sheffield &amp; DePaul</td>\n",
       "      <td>1259.766667</td>\n",
       "    </tr>\n",
       "  </tbody>\n",
       "</table>\n",
       "</div>"
      ],
      "text/plain": [
       "  dropoff_location_name  average_trips\n",
       "0                  Loop   10727.466667\n",
       "1           River North    9523.666667\n",
       "2         Streeterville    6664.666667\n",
       "3             West Loop    5163.666667\n",
       "4                O'Hare    2546.900000\n",
       "5             Lake View    2420.966667\n",
       "6            Grant Park    2068.533333\n",
       "7         Museum Campus    1510.000000\n",
       "8            Gold Coast    1364.233333\n",
       "9    Sheffield & DePaul    1259.766667"
      ]
     },
     "execution_count": 11,
     "metadata": {},
     "output_type": "execute_result"
    }
   ],
   "source": [
    "town_trips.head(10)"
   ]
  },
  {
   "cell_type": "code",
   "execution_count": 12,
   "metadata": {
    "trusted": true
   },
   "outputs": [
    {
     "name": "stdout",
     "output_type": "stream",
     "text": [
      "<class 'pandas.core.frame.DataFrame'>\n",
      "RangeIndex: 94 entries, 0 to 93\n",
      "Data columns (total 2 columns):\n",
      " #   Column                 Non-Null Count  Dtype  \n",
      "---  ------                 --------------  -----  \n",
      " 0   dropoff_location_name  94 non-null     object \n",
      " 1   average_trips          94 non-null     float64\n",
      "dtypes: float64(1), object(1)\n",
      "memory usage: 1.6+ KB\n"
     ]
    }
   ],
   "source": [
    "town_trips.info()"
   ]
  },
  {
   "cell_type": "markdown",
   "metadata": {},
   "source": [
    "## Hacer gráficos: empresas de taxis y número de viajes, los 10 barrios principales por número de finalizaciones"
   ]
  },
  {
   "cell_type": "code",
   "execution_count": 13,
   "metadata": {
    "trusted": true
   },
   "outputs": [
    {
     "data": {
      "text/plain": [
       "<Axes: title={'center': 'Empresas de taxis y numero de viajes'}, xlabel='Empresa', ylabel='Numero de Viajes'>"
      ]
     },
     "execution_count": 13,
     "metadata": {},
     "output_type": "execute_result"
    },
    {
     "data": {
      "image/png": "[encoded data removed]",
      "text/plain": [
       "<Figure size 700x700 with 1 Axes>"
      ]
     },
     "metadata": {},
     "output_type": "display_data"
    }
   ],
   "source": [
    "ten_company = company_trips.head(10)\n",
    "ten_company.plot(kind='barh', x='company_name', y='trips_amount', title='Empresas de taxis y numero de viajes', xlabel='Empresa', ylabel='Numero de Viajes', figsize=[7,7])"
   ]
  },
  {
   "cell_type": "code",
   "execution_count": 14,
   "metadata": {
    "trusted": true
   },
   "outputs": [],
   "source": [
    "first_ten = town_trips.head(10)"
   ]
  },
  {
   "cell_type": "code",
   "execution_count": 15,
   "metadata": {
    "trusted": true
   },
   "outputs": [
    {
     "data": {
      "text/plain": [
       "<Axes: title={'center': '10 Barrios principales x No. de finalizaciones'}, xlabel='Barrio', ylabel='Numero de llegadas'>"
      ]
     },
     "execution_count": 15,
     "metadata": {},
     "output_type": "execute_result"
    },
    {
     "data": {
      "image/png": "[encoded data removed]",
      "text/plain": [
       "<Figure size 700x700 with 1 Axes>"
      ]
     },
     "metadata": {},
     "output_type": "display_data"
    }
   ],
   "source": [
    "first_ten.plot(kind='barh', x='dropoff_location_name', y='average_trips', title='10 Barrios principales x No. de finalizaciones', xlabel='Barrio', ylabel='Numero de llegadas', figsize=[7,7])"
   ]
  },
  {
   "cell_type": "markdown",
   "metadata": {},
   "source": [
    "## Sacar conclusiones basadas en cada gráfico y explicar los resultados\n",
    "\n",
    "- La empresa que se encuentra mejor posicionanda es por numero de viajes es Flash Cab.\n",
    "- Flash Cab realiza 42% mas de viajes que la segunda empresa en el listado que es Taxi afiliation services.\n",
    "- El destino en chicago donde mas finalizan viajes es en Loop."
   ]
  },
  {
   "cell_type": "markdown",
   "metadata": {},
   "source": [
    "## Prueba de hipotesis"
   ]
  },
  {
   "cell_type": "code",
   "execution_count": 19,
   "metadata": {
    "trusted": true
   },
   "outputs": [
    {
     "data": {
      "text/html": [
       "<div>\n",
       "<style scoped>\n",
       "    .dataframe tbody tr th:only-of-type {\n",
       "        vertical-align: middle;\n",
       "    }\n",
       "\n",
       "    .dataframe tbody tr th {\n",
       "        vertical-align: top;\n",
       "    }\n",
       "\n",
       "    .dataframe thead th {\n",
       "        text-align: right;\n",
       "    }\n",
       "</style>\n",
       "<table border=\"1\" class=\"dataframe\">\n",
       "  <thead>\n",
       "    <tr style=\"text-align: right;\">\n",
       "      <th></th>\n",
       "      <th>start_ts</th>\n",
       "      <th>weather_conditions</th>\n",
       "      <th>duration_seconds</th>\n",
       "    </tr>\n",
       "  </thead>\n",
       "  <tbody>\n",
       "    <tr>\n",
       "      <th>0</th>\n",
       "      <td>2017-11-25 16:00:00</td>\n",
       "      <td>Good</td>\n",
       "      <td>2410.0</td>\n",
       "    </tr>\n",
       "    <tr>\n",
       "      <th>1</th>\n",
       "      <td>2017-11-25 14:00:00</td>\n",
       "      <td>Good</td>\n",
       "      <td>1920.0</td>\n",
       "    </tr>\n",
       "    <tr>\n",
       "      <th>2</th>\n",
       "      <td>2017-11-25 12:00:00</td>\n",
       "      <td>Good</td>\n",
       "      <td>1543.0</td>\n",
       "    </tr>\n",
       "    <tr>\n",
       "      <th>3</th>\n",
       "      <td>2017-11-04 10:00:00</td>\n",
       "      <td>Good</td>\n",
       "      <td>2512.0</td>\n",
       "    </tr>\n",
       "    <tr>\n",
       "      <th>4</th>\n",
       "      <td>2017-11-11 07:00:00</td>\n",
       "      <td>Good</td>\n",
       "      <td>1440.0</td>\n",
       "    </tr>\n",
       "  </tbody>\n",
       "</table>\n",
       "</div>"
      ],
      "text/plain": [
       "              start_ts weather_conditions  duration_seconds\n",
       "0  2017-11-25 16:00:00               Good            2410.0\n",
       "1  2017-11-25 14:00:00               Good            1920.0\n",
       "2  2017-11-25 12:00:00               Good            1543.0\n",
       "3  2017-11-04 10:00:00               Good            2512.0\n",
       "4  2017-11-11 07:00:00               Good            1440.0"
      ]
     },
     "execution_count": 19,
     "metadata": {},
     "output_type": "execute_result"
    }
   ],
   "source": [
    "loop_trips = pd.read_csv('moved_project_sql_result_07.csv')\n",
    "loop_trips.head()"
   ]
  },
  {
   "cell_type": "code",
   "execution_count": null,
   "metadata": {
    "trusted": true
   },
   "outputs": [
    {
     "name": "stdout",
     "output_type": "stream",
     "text": [
      "<class 'pandas.core.frame.DataFrame'>\n",
      "RangeIndex: 1068 entries, 0 to 1067\n",
      "Data columns (total 3 columns):\n",
      " #   Column              Non-Null Count  Dtype  \n",
      "---  ------              --------------  -----  \n",
      " 0   start_ts            1068 non-null   object \n",
      " 1   weather_conditions  1068 non-null   object \n",
      " 2   duration_seconds    1068 non-null   float64\n",
      "dtypes: float64(1), object(2)\n",
      "memory usage: 25.2+ KB\n"
     ]
    }
   ],
   "source": [
    "loop_trips.info()"
   ]
  },
  {
   "cell_type": "markdown",
   "metadata": {},
   "source": [
    "### Prueba la hipótesis:\n",
    "\n",
    "\"La duración promedio de los viajes desde el Loop hasta el Aeropuerto Internacional O'Hare cambia los sábados lluviosos\".\n",
    "\n",
    "Decide por tu cuenta dónde establecer el nivel de significación (alfa).\n",
    "\n",
    "Explica:\n",
    "\n",
    "- Cómo planteaste las hipótesis nula y alternativa\n",
    "\n",
    "Hipótesis nula: No hay diferencia significativa en la duración promedio de los viajes entre sábados lluviosos y sábados no lluviosos.\n",
    "\n",
    "Hipótesis alternativa: La duración promedio de los viajes en sábados lluviosos es diferente a la de los sábados no lluviosos.\n",
    "\n",
    "- Qué criterio usaste para probar las hipótesis y por qué\n",
    "\n",
    "Para probar la hipótesis de que la duración promedio de los viajes desde el Loop hasta el Aeropuerto Internacional O'Hare cambia los sábados lluviosos, utilicé una prueba t de Student para muestras independientes.\n",
    "\n",
    "Porque se quiere comparar la duración promedio de los viajes en dos condiciones diferentes: sábados lluviosos vs. sábados no lluviosos.\n",
    "\n",
    "La prueba t de Student es adecuada cuando se comparan las medias de dos muestras independientes."
   ]
  },
  {
   "cell_type": "code",
   "execution_count": 20,
   "metadata": {
    "trusted": true
   },
   "outputs": [
    {
     "data": {
      "text/html": [
       "<div>\n",
       "<style scoped>\n",
       "    .dataframe tbody tr th:only-of-type {\n",
       "        vertical-align: middle;\n",
       "    }\n",
       "\n",
       "    .dataframe tbody tr th {\n",
       "        vertical-align: top;\n",
       "    }\n",
       "\n",
       "    .dataframe thead th {\n",
       "        text-align: right;\n",
       "    }\n",
       "</style>\n",
       "<table border=\"1\" class=\"dataframe\">\n",
       "  <thead>\n",
       "    <tr style=\"text-align: right;\">\n",
       "      <th></th>\n",
       "      <th>start_ts</th>\n",
       "      <th>weather_conditions</th>\n",
       "      <th>duration_seconds</th>\n",
       "    </tr>\n",
       "  </thead>\n",
       "  <tbody>\n",
       "    <tr>\n",
       "      <th>0</th>\n",
       "      <td>2017-11-25 16:00:00</td>\n",
       "      <td>Good</td>\n",
       "      <td>2410.0</td>\n",
       "    </tr>\n",
       "    <tr>\n",
       "      <th>1</th>\n",
       "      <td>2017-11-25 14:00:00</td>\n",
       "      <td>Good</td>\n",
       "      <td>1920.0</td>\n",
       "    </tr>\n",
       "    <tr>\n",
       "      <th>2</th>\n",
       "      <td>2017-11-25 12:00:00</td>\n",
       "      <td>Good</td>\n",
       "      <td>1543.0</td>\n",
       "    </tr>\n",
       "    <tr>\n",
       "      <th>3</th>\n",
       "      <td>2017-11-04 10:00:00</td>\n",
       "      <td>Good</td>\n",
       "      <td>2512.0</td>\n",
       "    </tr>\n",
       "    <tr>\n",
       "      <th>4</th>\n",
       "      <td>2017-11-11 07:00:00</td>\n",
       "      <td>Good</td>\n",
       "      <td>1440.0</td>\n",
       "    </tr>\n",
       "    <tr>\n",
       "      <th>5</th>\n",
       "      <td>2017-11-11 04:00:00</td>\n",
       "      <td>Good</td>\n",
       "      <td>1320.0</td>\n",
       "    </tr>\n",
       "    <tr>\n",
       "      <th>6</th>\n",
       "      <td>2017-11-04 16:00:00</td>\n",
       "      <td>Bad</td>\n",
       "      <td>2969.0</td>\n",
       "    </tr>\n",
       "    <tr>\n",
       "      <th>7</th>\n",
       "      <td>2017-11-18 11:00:00</td>\n",
       "      <td>Good</td>\n",
       "      <td>2280.0</td>\n",
       "    </tr>\n",
       "    <tr>\n",
       "      <th>8</th>\n",
       "      <td>2017-11-11 14:00:00</td>\n",
       "      <td>Good</td>\n",
       "      <td>2460.0</td>\n",
       "    </tr>\n",
       "    <tr>\n",
       "      <th>9</th>\n",
       "      <td>2017-11-11 12:00:00</td>\n",
       "      <td>Good</td>\n",
       "      <td>2040.0</td>\n",
       "    </tr>\n",
       "    <tr>\n",
       "      <th>10</th>\n",
       "      <td>2017-11-18 06:00:00</td>\n",
       "      <td>Good</td>\n",
       "      <td>1500.0</td>\n",
       "    </tr>\n",
       "    <tr>\n",
       "      <th>11</th>\n",
       "      <td>2017-11-04 11:00:00</td>\n",
       "      <td>Good</td>\n",
       "      <td>2040.0</td>\n",
       "    </tr>\n",
       "    <tr>\n",
       "      <th>12</th>\n",
       "      <td>2017-11-11 08:00:00</td>\n",
       "      <td>Good</td>\n",
       "      <td>1470.0</td>\n",
       "    </tr>\n",
       "    <tr>\n",
       "      <th>13</th>\n",
       "      <td>2017-11-04 08:00:00</td>\n",
       "      <td>Good</td>\n",
       "      <td>1546.0</td>\n",
       "    </tr>\n",
       "    <tr>\n",
       "      <th>14</th>\n",
       "      <td>2017-11-11 16:00:00</td>\n",
       "      <td>Good</td>\n",
       "      <td>2100.0</td>\n",
       "    </tr>\n",
       "    <tr>\n",
       "      <th>15</th>\n",
       "      <td>2017-11-25 13:00:00</td>\n",
       "      <td>Good</td>\n",
       "      <td>60.0</td>\n",
       "    </tr>\n",
       "    <tr>\n",
       "      <th>16</th>\n",
       "      <td>2017-11-04 12:00:00</td>\n",
       "      <td>Good</td>\n",
       "      <td>2640.0</td>\n",
       "    </tr>\n",
       "    <tr>\n",
       "      <th>17</th>\n",
       "      <td>2017-11-25 10:00:00</td>\n",
       "      <td>Good</td>\n",
       "      <td>1502.0</td>\n",
       "    </tr>\n",
       "    <tr>\n",
       "      <th>18</th>\n",
       "      <td>2017-11-11 12:00:00</td>\n",
       "      <td>Good</td>\n",
       "      <td>1915.0</td>\n",
       "    </tr>\n",
       "    <tr>\n",
       "      <th>19</th>\n",
       "      <td>2017-11-04 12:00:00</td>\n",
       "      <td>Good</td>\n",
       "      <td>2769.0</td>\n",
       "    </tr>\n",
       "    <tr>\n",
       "      <th>20</th>\n",
       "      <td>2017-11-11 13:00:00</td>\n",
       "      <td>Good</td>\n",
       "      <td>2250.0</td>\n",
       "    </tr>\n",
       "    <tr>\n",
       "      <th>21</th>\n",
       "      <td>2017-11-11 04:00:00</td>\n",
       "      <td>Good</td>\n",
       "      <td>1260.0</td>\n",
       "    </tr>\n",
       "    <tr>\n",
       "      <th>22</th>\n",
       "      <td>2017-11-18 14:00:00</td>\n",
       "      <td>Good</td>\n",
       "      <td>2826.0</td>\n",
       "    </tr>\n",
       "    <tr>\n",
       "      <th>23</th>\n",
       "      <td>2017-11-04 14:00:00</td>\n",
       "      <td>Good</td>\n",
       "      <td>3360.0</td>\n",
       "    </tr>\n",
       "    <tr>\n",
       "      <th>24</th>\n",
       "      <td>2017-11-04 14:00:00</td>\n",
       "      <td>Good</td>\n",
       "      <td>3180.0</td>\n",
       "    </tr>\n",
       "    <tr>\n",
       "      <th>25</th>\n",
       "      <td>2017-11-25 20:00:00</td>\n",
       "      <td>Good</td>\n",
       "      <td>2100.0</td>\n",
       "    </tr>\n",
       "    <tr>\n",
       "      <th>26</th>\n",
       "      <td>2017-11-04 10:00:00</td>\n",
       "      <td>Good</td>\n",
       "      <td>1800.0</td>\n",
       "    </tr>\n",
       "    <tr>\n",
       "      <th>27</th>\n",
       "      <td>2017-11-11 12:00:00</td>\n",
       "      <td>Good</td>\n",
       "      <td>2289.0</td>\n",
       "    </tr>\n",
       "    <tr>\n",
       "      <th>28</th>\n",
       "      <td>2017-11-04 08:00:00</td>\n",
       "      <td>Good</td>\n",
       "      <td>1494.0</td>\n",
       "    </tr>\n",
       "    <tr>\n",
       "      <th>29</th>\n",
       "      <td>2017-11-11 11:00:00</td>\n",
       "      <td>Good</td>\n",
       "      <td>1560.0</td>\n",
       "    </tr>\n",
       "  </tbody>\n",
       "</table>\n",
       "</div>"
      ],
      "text/plain": [
       "               start_ts weather_conditions  duration_seconds\n",
       "0   2017-11-25 16:00:00               Good            2410.0\n",
       "1   2017-11-25 14:00:00               Good            1920.0\n",
       "2   2017-11-25 12:00:00               Good            1543.0\n",
       "3   2017-11-04 10:00:00               Good            2512.0\n",
       "4   2017-11-11 07:00:00               Good            1440.0\n",
       "5   2017-11-11 04:00:00               Good            1320.0\n",
       "6   2017-11-04 16:00:00                Bad            2969.0\n",
       "7   2017-11-18 11:00:00               Good            2280.0\n",
       "8   2017-11-11 14:00:00               Good            2460.0\n",
       "9   2017-11-11 12:00:00               Good            2040.0\n",
       "10  2017-11-18 06:00:00               Good            1500.0\n",
       "11  2017-11-04 11:00:00               Good            2040.0\n",
       "12  2017-11-11 08:00:00               Good            1470.0\n",
       "13  2017-11-04 08:00:00               Good            1546.0\n",
       "14  2017-11-11 16:00:00               Good            2100.0\n",
       "15  2017-11-25 13:00:00               Good              60.0\n",
       "16  2017-11-04 12:00:00               Good            2640.0\n",
       "17  2017-11-25 10:00:00               Good            1502.0\n",
       "18  2017-11-11 12:00:00               Good            1915.0\n",
       "19  2017-11-04 12:00:00               Good            2769.0\n",
       "20  2017-11-11 13:00:00               Good            2250.0\n",
       "21  2017-11-11 04:00:00               Good            1260.0\n",
       "22  2017-11-18 14:00:00               Good            2826.0\n",
       "23  2017-11-04 14:00:00               Good            3360.0\n",
       "24  2017-11-04 14:00:00               Good            3180.0\n",
       "25  2017-11-25 20:00:00               Good            2100.0\n",
       "26  2017-11-04 10:00:00               Good            1800.0\n",
       "27  2017-11-11 12:00:00               Good            2289.0\n",
       "28  2017-11-04 08:00:00               Good            1494.0\n",
       "29  2017-11-11 11:00:00               Good            1560.0"
      ]
     },
     "execution_count": 20,
     "metadata": {},
     "output_type": "execute_result"
    }
   ],
   "source": [
    "loop_trips.head(30)"
   ]
  },
  {
   "cell_type": "code",
   "execution_count": 21,
   "metadata": {
    "trusted": true
   },
   "outputs": [
    {
     "name": "stdout",
     "output_type": "stream",
     "text": [
      "valor p:  6.738994326108734e-12\n",
      "Se rechaza la hipótesis nula: Hay diferencia significativa en la duración de los viajes.\n",
      "Duración promedio en sábados lluviosos: 2427.2055555555557\n",
      "Duración promedio en sábados sin lluvia: 1999.6756756756756\n"
     ]
    }
   ],
   "source": [
    "loop_trips['start_ts'] = pd.to_datetime(loop_trips['start_ts'])\n",
    "\n",
    "loop_trips['day_of_week'] = loop_trips['start_ts'].dt.dayofweek\n",
    "\n",
    "saturdays_df = loop_trips[loop_trips['day_of_week'] == 5]\n",
    "\n",
    "rainy_saturdays = saturdays_df[saturdays_df['weather_conditions'].str.contains(\"Bad\", case=False, na=False)]\n",
    "\n",
    "non_rainy_saturdays = saturdays_df[saturdays_df['weather_conditions'].str.contains(\"Good\", case=False, na=False)]\n",
    "\n",
    "avg_duration_rainy = rainy_saturdays['duration_seconds'].mean()\n",
    "\n",
    "avg_duration_non_rainy = non_rainy_saturdays['duration_seconds'].mean()\n",
    "\n",
    "n_rainy = len(rainy_saturdays)\n",
    "n_non_rainy = len(non_rainy_saturdays)\n",
    "\n",
    "alpha = 0.05\n",
    "\n",
    "results = st.ttest_ind(rainy_saturdays['duration_seconds'], non_rainy_saturdays['duration_seconds'], equal_var=False)\n",
    "print('valor p: ', results.pvalue)\n",
    "\n",
    "if results.pvalue < alpha:\n",
    "    print(\"Se rechaza la hipótesis nula: Hay diferencia significativa en la duración de los viajes.\")\n",
    "else:\n",
    "    print(\"No se rechaza la hipótesis nula: No hay evidencia suficiente para afirmar que la duración de los viajes cambia.\")\n",
    "\n",
    "print(\"Duración promedio en sábados lluviosos:\", avg_duration_rainy)\n",
    "print(\"Duración promedio en sábados sin lluvia:\", avg_duration_non_rainy)"
   ]
  },
  {
   "cell_type": "markdown",
   "metadata": {},
   "source": [
    "## Como desarrolle la prueba de hipótesis:\n",
    "\n",
    "- Convertí la columna de tiempo a formato datetime para facilitar su manipulación.\n",
    "- Luego extraje el día de la semana (sábado = 5 en pandas, donde lunes = 0 y domingo = 6).\n",
    "- Filtre solo los registros correspondientes a los sábados.\n",
    "- Separare los sábados lluviosos (donde la condición climática contiene \"Bad\").\n",
    "- Separare los sábados que no son lluviosos con la condicion 'Good'.\n",
    "- Calcule la duración promedio de los viajes en sábados lluviosos.\n",
    "- Calcule la duración promedio de los viajes en sábados sin lluvia.\n",
    "- Nivel de significación(Alpha)=0,05.\n",
    "- Aplique la prueba t de Student para comparar las medias.\n",
    "- Determine el resultado basado en Alpha.\n",
    "- Indique los segundos promedio de viaje con lluvia y sin lluvia.\n",
    "\n",
    "Despues de realizar la prueba de hipótesis, determinamos que los viajes desde Loop hacia el Aeropuerto Internacional O'Hare son mas demorados en dias lluviosos por aproximadamente 428 segundos mas o 7 minutos mas. \n"
   ]
  }
 ],
 "metadata": {
  "ExecuteTimeLog": [
   {
    "duration": 327,
    "start_time": "2025-02-15T21:22:25.754Z"
   },
   {
    "duration": 9,
    "start_time": "2025-02-15T21:23:07.389Z"
   },
   {
    "duration": 14,
    "start_time": "2025-02-15T21:24:26.965Z"
   },
   {
    "duration": 11,
    "start_time": "2025-02-15T21:26:16.331Z"
   },
   {
    "duration": 6,
    "start_time": "2025-02-15T21:26:30.077Z"
   },
   {
    "duration": 10,
    "start_time": "2025-02-15T21:26:44.820Z"
   },
   {
    "duration": 8,
    "start_time": "2025-02-15T21:27:00.387Z"
   },
   {
    "duration": 9,
    "start_time": "2025-02-15T21:27:17.414Z"
   },
   {
    "duration": 8,
    "start_time": "2025-02-15T21:31:35.994Z"
   },
   {
    "duration": 1959,
    "start_time": "2025-02-15T21:50:50.745Z"
   },
   {
    "duration": 202,
    "start_time": "2025-02-15T21:52:36.145Z"
   },
   {
    "duration": 1204,
    "start_time": "2025-02-15T21:52:47.018Z"
   },
   {
    "duration": 8,
    "start_time": "2025-02-15T21:56:06.763Z"
   },
   {
    "duration": 1037,
    "start_time": "2025-02-15T21:56:35.831Z"
   },
   {
    "duration": 1028,
    "start_time": "2025-02-15T21:57:00.215Z"
   },
   {
    "duration": 3,
    "start_time": "2025-02-15T22:00:14.324Z"
   },
   {
    "duration": 175,
    "start_time": "2025-02-15T22:02:20.220Z"
   },
   {
    "duration": 4,
    "start_time": "2025-02-15T22:09:42.337Z"
   },
   {
    "duration": 14,
    "start_time": "2025-02-15T22:09:48.407Z"
   },
   {
    "duration": 9,
    "start_time": "2025-02-15T22:19:53.433Z"
   },
   {
    "duration": 6,
    "start_time": "2025-02-15T22:24:28.780Z"
   },
   {
    "duration": 463,
    "start_time": "2025-02-15T22:24:43.712Z"
   },
   {
    "duration": 44,
    "start_time": "2025-02-15T22:25:43.827Z"
   },
   {
    "duration": 17,
    "start_time": "2025-02-15T22:26:45.687Z"
   },
   {
    "duration": 14,
    "start_time": "2025-02-15T22:59:11.328Z"
   },
   {
    "duration": 13,
    "start_time": "2025-02-15T23:00:46.169Z"
   },
   {
    "duration": 163,
    "start_time": "2025-02-16T14:54:36.305Z"
   },
   {
    "duration": 2151,
    "start_time": "2025-02-16T14:55:13.547Z"
   },
   {
    "duration": 7,
    "start_time": "2025-02-16T14:55:15.700Z"
   },
   {
    "duration": 8,
    "start_time": "2025-02-16T14:55:15.709Z"
   },
   {
    "duration": 13,
    "start_time": "2025-02-16T14:55:15.718Z"
   },
   {
    "duration": 7,
    "start_time": "2025-02-16T14:55:15.734Z"
   },
   {
    "duration": 1109,
    "start_time": "2025-02-16T14:55:15.743Z"
   },
   {
    "duration": 4,
    "start_time": "2025-02-16T14:55:16.853Z"
   },
   {
    "duration": 175,
    "start_time": "2025-02-16T14:55:16.858Z"
   },
   {
    "duration": 16,
    "start_time": "2025-02-16T14:55:17.035Z"
   },
   {
    "duration": 9,
    "start_time": "2025-02-16T14:55:17.052Z"
   },
   {
    "duration": 12,
    "start_time": "2025-02-16T14:55:17.062Z"
   },
   {
    "duration": 10,
    "start_time": "2025-02-16T14:56:17.297Z"
   },
   {
    "duration": 10,
    "start_time": "2025-02-16T14:56:21.049Z"
   },
   {
    "duration": 10,
    "start_time": "2025-02-16T14:56:27.581Z"
   },
   {
    "duration": 53,
    "start_time": "2025-02-16T14:57:08.960Z"
   },
   {
    "duration": 338,
    "start_time": "2025-02-16T14:58:28.117Z"
   },
   {
    "duration": 6,
    "start_time": "2025-02-16T14:58:28.457Z"
   },
   {
    "duration": 9,
    "start_time": "2025-02-16T14:58:28.464Z"
   },
   {
    "duration": 9,
    "start_time": "2025-02-16T14:58:28.474Z"
   },
   {
    "duration": 8,
    "start_time": "2025-02-16T14:58:28.486Z"
   },
   {
    "duration": 1137,
    "start_time": "2025-02-16T14:58:28.496Z"
   },
   {
    "duration": 3,
    "start_time": "2025-02-16T14:58:29.636Z"
   },
   {
    "duration": 194,
    "start_time": "2025-02-16T14:58:29.640Z"
   },
   {
    "duration": 11,
    "start_time": "2025-02-16T14:58:29.836Z"
   },
   {
    "duration": 9,
    "start_time": "2025-02-16T14:58:29.849Z"
   },
   {
    "duration": 11,
    "start_time": "2025-02-16T14:58:29.859Z"
   },
   {
    "duration": 51,
    "start_time": "2025-02-16T14:59:26.551Z"
   },
   {
    "duration": 11,
    "start_time": "2025-02-16T15:14:24.374Z"
   },
   {
    "duration": 11,
    "start_time": "2025-02-16T15:27:34.612Z"
   },
   {
    "duration": 6,
    "start_time": "2025-02-16T15:27:34.625Z"
   },
   {
    "duration": 8,
    "start_time": "2025-02-16T15:27:34.633Z"
   },
   {
    "duration": 7,
    "start_time": "2025-02-16T15:27:34.644Z"
   },
   {
    "duration": 8,
    "start_time": "2025-02-16T15:27:34.652Z"
   },
   {
    "duration": 1069,
    "start_time": "2025-02-16T15:27:34.662Z"
   },
   {
    "duration": 2,
    "start_time": "2025-02-16T15:27:35.733Z"
   },
   {
    "duration": 198,
    "start_time": "2025-02-16T15:27:35.737Z"
   },
   {
    "duration": 11,
    "start_time": "2025-02-16T15:27:35.938Z"
   },
   {
    "duration": 8,
    "start_time": "2025-02-16T15:27:35.951Z"
   },
   {
    "duration": 11,
    "start_time": "2025-02-16T15:27:35.961Z"
   },
   {
    "duration": 2555,
    "start_time": "2025-02-17T13:03:04.426Z"
   },
   {
    "duration": 8,
    "start_time": "2025-02-17T13:03:06.983Z"
   },
   {
    "duration": 8,
    "start_time": "2025-02-17T13:03:06.993Z"
   },
   {
    "duration": 6,
    "start_time": "2025-02-17T13:03:07.004Z"
   },
   {
    "duration": 8,
    "start_time": "2025-02-17T13:03:07.012Z"
   },
   {
    "duration": 1106,
    "start_time": "2025-02-17T13:03:07.021Z"
   },
   {
    "duration": 3,
    "start_time": "2025-02-17T13:03:08.129Z"
   },
   {
    "duration": 178,
    "start_time": "2025-02-17T13:03:08.135Z"
   },
   {
    "duration": 15,
    "start_time": "2025-02-17T13:03:08.315Z"
   },
   {
    "duration": 8,
    "start_time": "2025-02-17T13:03:08.333Z"
   },
   {
    "duration": 12,
    "start_time": "2025-02-17T13:03:08.342Z"
   },
   {
    "duration": 5,
    "start_time": "2025-02-17T13:03:14.167Z"
   },
   {
    "duration": 10,
    "start_time": "2025-02-17T13:03:21.337Z"
   },
   {
    "duration": 2520,
    "start_time": "2025-02-17T23:46:04.351Z"
   },
   {
    "duration": 8,
    "start_time": "2025-02-17T23:46:06.874Z"
   },
   {
    "duration": 9,
    "start_time": "2025-02-17T23:46:06.884Z"
   },
   {
    "duration": 6,
    "start_time": "2025-02-17T23:46:06.894Z"
   },
   {
    "duration": 7,
    "start_time": "2025-02-17T23:46:06.903Z"
   },
   {
    "duration": 254,
    "start_time": "2025-02-17T23:46:06.911Z"
   },
   {
    "duration": 3,
    "start_time": "2025-02-17T23:46:07.166Z"
   },
   {
    "duration": 178,
    "start_time": "2025-02-17T23:46:07.170Z"
   },
   {
    "duration": 14,
    "start_time": "2025-02-17T23:46:07.350Z"
   },
   {
    "duration": 8,
    "start_time": "2025-02-17T23:46:07.365Z"
   },
   {
    "duration": 22,
    "start_time": "2025-02-17T23:46:07.375Z"
   },
   {
    "duration": 12,
    "start_time": "2025-02-17T23:54:24.434Z"
   },
   {
    "duration": 5,
    "start_time": "2025-02-17T23:54:24.449Z"
   },
   {
    "duration": 10,
    "start_time": "2025-02-17T23:54:24.456Z"
   },
   {
    "duration": 7,
    "start_time": "2025-02-17T23:54:24.468Z"
   },
   {
    "duration": 8,
    "start_time": "2025-02-17T23:54:24.479Z"
   },
   {
    "duration": 214,
    "start_time": "2025-02-17T23:54:24.489Z"
   },
   {
    "duration": 3,
    "start_time": "2025-02-17T23:54:24.704Z"
   },
   {
    "duration": 190,
    "start_time": "2025-02-17T23:54:24.709Z"
   },
   {
    "duration": 9,
    "start_time": "2025-02-17T23:54:24.901Z"
   },
   {
    "duration": 9,
    "start_time": "2025-02-17T23:54:24.911Z"
   },
   {
    "duration": 11,
    "start_time": "2025-02-17T23:54:24.922Z"
   },
   {
    "duration": 266,
    "start_time": "2025-02-17T23:54:58.014Z"
   },
   {
    "duration": 10,
    "start_time": "2025-02-17T23:55:17.638Z"
   },
   {
    "duration": 27,
    "start_time": "2025-02-17T23:56:04.348Z"
   },
   {
    "duration": 25,
    "start_time": "2025-02-18T00:01:38.782Z"
   },
   {
    "duration": 24,
    "start_time": "2025-02-18T00:02:32.766Z"
   },
   {
    "duration": 25,
    "start_time": "2025-02-18T00:18:08.326Z"
   },
   {
    "duration": 12,
    "start_time": "2025-02-18T00:18:51.294Z"
   },
   {
    "duration": 275,
    "start_time": "2025-02-18T01:03:35.016Z"
   },
   {
    "duration": 203,
    "start_time": "2025-02-18T01:03:54.592Z"
   },
   {
    "duration": 180,
    "start_time": "2025-02-18T01:07:08.715Z"
   },
   {
    "duration": 182,
    "start_time": "2025-02-18T01:07:21.145Z"
   },
   {
    "duration": 41,
    "start_time": "2025-02-18T01:09:28.080Z"
   },
   {
    "duration": 12,
    "start_time": "2025-02-18T01:09:28.128Z"
   },
   {
    "duration": 11,
    "start_time": "2025-02-18T01:09:28.142Z"
   },
   {
    "duration": 7,
    "start_time": "2025-02-18T01:09:28.156Z"
   },
   {
    "duration": 10,
    "start_time": "2025-02-18T01:09:28.164Z"
   },
   {
    "duration": 190,
    "start_time": "2025-02-18T01:09:28.176Z"
   },
   {
    "duration": 3,
    "start_time": "2025-02-18T01:09:28.367Z"
   },
   {
    "duration": 176,
    "start_time": "2025-02-18T01:09:28.372Z"
   },
   {
    "duration": 10,
    "start_time": "2025-02-18T01:09:28.550Z"
   },
   {
    "duration": 7,
    "start_time": "2025-02-18T01:09:28.563Z"
   },
   {
    "duration": 19,
    "start_time": "2025-02-18T01:09:28.572Z"
   },
   {
    "duration": 24,
    "start_time": "2025-02-18T01:09:28.593Z"
   }
  ],
  "kernelspec": {
   "display_name": "Python 3",
   "language": "python",
   "name": "python3"
  },
  "language_info": {
   "codemirror_mode": {
    "name": "ipython",
    "version": 3
   },
   "file_extension": ".py",
   "mimetype": "text/x-python",
   "name": "python",
   "nbconvert_exporter": "python",
   "pygments_lexer": "ipython3",
   "version": "3.12.6"
  },
  "toc": {
   "base_numbering": 1,
   "nav_menu": {},
   "number_sections": true,
   "sideBar": true,
   "skip_h1_title": true,
   "title_cell": "Table of Contents",
   "title_sidebar": "Contents",
   "toc_cell": false,
   "toc_position": {},
   "toc_section_display": true,
   "toc_window_display": false
  }
 },
 "nbformat": 4,
 "nbformat_minor": 2
}
